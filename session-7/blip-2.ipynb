{
  "cells": [
    {
      "cell_type": "markdown",
      "metadata": {
        "id": "view-in-github",
        "colab_type": "text"
      },
      "source": [
        "<a href=\"https://colab.research.google.com/github/nyp-sit/iti107-2024s2/blob/main/session-7/blip-2.ipynb\" target=\"_parent\"><img src=\"https://colab.research.google.com/assets/colab-badge.svg\" alt=\"Open In Colab\"/></a>"
      ]
    },
    {
      "cell_type": "code",
      "execution_count": null,
      "metadata": {
        "id": "EfYE8mmDUIGg"
      },
      "outputs": [],
      "source": [
        "# %%capture\n",
        "# !pip install matplotlib transformers datasets accelerate sentence-transformers"
      ]
    },
    {
      "cell_type": "markdown",
      "metadata": {
        "id": "eH4qEaw8uyvi"
      },
      "source": [
        "# Multimodal Large Language Model\n",
        "\n",
        "BLIP-2, LLaVA, and other Visual LLMs project the visual features from images to language embeddings, using CLIP-like visual encoders.The language embeddings can then be used as input for an LLM that they can be used as the input for an LLM.  This capability enabled interesting use cases such as image captioning and visual Q&A.\n",
        "\n",
        "In this exercise, we will learn how to use the BLIP-2 to perform image captioning and visual Q&A tasks."
      ]
    },
    {
      "cell_type": "markdown",
      "metadata": {
        "id": "BI96zcs13cCn"
      },
      "source": [
        "*Due to a bug in transformer version 4.46.3, the BLIP2 model is not working for image captioning case, we will need to update the transformer the main branch*"
      ]
    },
    {
      "cell_type": "code",
      "execution_count": null,
      "metadata": {
        "id": "WGGGl34p3cCn"
      },
      "outputs": [],
      "source": [
        "!pip install --upgrade git+https://github.com/huggingface/transformers.git"
      ]
    },
    {
      "cell_type": "code",
      "execution_count": null,
      "metadata": {
        "id": "DC2LuQFc3cCo"
      },
      "outputs": [],
      "source": [
        "import transformers\n",
        "\n",
        "# make sure our transformers version is the latest\n",
        "transformers.__version__"
      ]
    },
    {
      "cell_type": "markdown",
      "metadata": {
        "id": "JsLAEG2a5-5r"
      },
      "source": [
        "## BLIP-2 model\n",
        "\n",
        "Let's just load the BLIP model, and the associated processor."
      ]
    },
    {
      "cell_type": "code",
      "execution_count": null,
      "metadata": {
        "id": "jnNrafWu6BSJ"
      },
      "outputs": [],
      "source": [
        "from transformers import AutoProcessor, Blip2ForConditionalGeneration\n",
        "import torch\n",
        "\n",
        "# Load processor and main model\n",
        "blip_processor = AutoProcessor.from_pretrained(\"Salesforce/blip2-opt-2.7b\")\n",
        "model = Blip2ForConditionalGeneration.from_pretrained(\n",
        "    \"Salesforce/blip2-opt-2.7b\",\n",
        "    torch_dtype=torch.float16\n",
        ")\n",
        "\n",
        "# Send the model to GPU to speed up inference\n",
        "device = \"cuda\" if torch.cuda.is_available() else \"cpu\"\n",
        "model.to(device)"
      ]
    },
    {
      "cell_type": "markdown",
      "metadata": {
        "id": "xI_UWlR8c_Ey"
      },
      "source": [
        "### Preprocessing Images\n",
        "\n",
        "Let us first look at what kind of image processing is done by the Processor. We will use the following as test image.\n"
      ]
    },
    {
      "cell_type": "code",
      "execution_count": null,
      "metadata": {
        "id": "W6YeV_TEQFAA"
      },
      "outputs": [],
      "source": [
        "from PIL import Image\n",
        "from urllib.request import urlopen\n",
        "\n",
        "# Load image of a supercar\n",
        "image_url = 'https://storage.googleapis.com/sfr-vision-language-research/LAVIS/assets/merlion.png'\n",
        "image = Image.open(urlopen(image_url)).convert(\"RGB\")\n",
        "image"
      ]
    },
    {
      "cell_type": "markdown",
      "metadata": {
        "id": "pjK_yyL4-rMA"
      },
      "source": [
        "Let's see what the BLIP-2 processor does to the image."
      ]
    },
    {
      "cell_type": "code",
      "execution_count": null,
      "metadata": {
        "id": "flZeiDFmQIIg"
      },
      "outputs": [],
      "source": [
        "# Preprocess the image\n",
        "inputs = blip_processor(image, return_tensors=\"pt\").to(device, torch.float16)\n",
        "print(inputs)"
      ]
    },
    {
      "cell_type": "markdown",
      "metadata": {
        "id": "hB0fciws_leh"
      },
      "source": [
        "**Questions**\n",
        "\n",
        "- What is the shape of the tensor?\n",
        "- What can you tell from the shape?\n",
        "- What are the max and min values of the pixel values?\n",
        "\n",
        "<details><summary>Click here for answer</summary>\n",
        "\n",
        "The processor will resize the image into 224 × 224-sized image. So if we have a very wide photo, it will be processed into square photo.\n",
        "The image is RGB (axis=1 is 3_\n",
        "Also the pixel values seem to have been normalized, maximum value is 2.0742 and the minimum value is -1.7773\n",
        "\n",
        "\n",
        "\n",
        "</details>"
      ]
    },
    {
      "cell_type": "markdown",
      "metadata": {
        "id": "F-59Rt8DDb0j"
      },
      "source": [
        "To display the pixel values as PIL image, we need to do some transformation first.\n",
        "\n",
        "1. As PIL image is represented as (width, height, channels), but torch tensor is presented as (channels, height, width), we need swap the axis around of the original tensor.  We can use np.einsum() to accompanish this easily in 2 steps:\n",
        " -swap position of channel axis to become 3rd axis (ijk->kji)\n",
        " -swap position of width and height (ijk->jik)\n",
        "2. we also need to scale the pixel values to values between 0 and 255, using minmaxscaler. Since minmax scaler works with 2D data, we need to reshape it 2D, by flattening axis=0 (Height) and axis=1 (Width).\n"
      ]
    },
    {
      "cell_type": "code",
      "execution_count": null,
      "metadata": {
        "id": "0lHJ7LiKUhWf"
      },
      "outputs": [],
      "source": [
        "from sklearn.preprocessing import MinMaxScaler\n",
        "import numpy as np\n",
        "\n",
        "# Convert to numpy and go from (1, C, H, W) to (W, H, C) in shape\n",
        "image_inputs = inputs[\"pixel_values\"][0].detach().cpu().numpy()\n",
        "image_inputs = np.einsum('ijk->kji', image_inputs)\n",
        "image_inputs = np.einsum('ijk->jik', image_inputs)\n",
        "\n",
        "# Scale image inputs to 0-255 to represent RGB values\n",
        "scaler = MinMaxScaler(feature_range=(0, 255))\n",
        "\n",
        "image_inputs = scaler.fit_transform(image_inputs.reshape(-1, image_inputs.shape[-1])).reshape(image_inputs.shape)\n",
        "image_inputs = np.array(image_inputs, dtype=np.uint8)\n",
        "\n",
        "# Convert numpy array to Image\n",
        "Image.fromarray(image_inputs)"
      ]
    },
    {
      "cell_type": "markdown",
      "metadata": {
        "id": "pDoBrN56dBTF"
      },
      "source": [
        "### Preprocessing Text\n",
        "\n",
        "Let’s continue this exploration of the processor with text instead. First, we\n",
        "can access the tokenizer used to tokenize the input text"
      ]
    },
    {
      "cell_type": "code",
      "execution_count": null,
      "metadata": {
        "id": "nHJkauW9dFhB"
      },
      "outputs": [],
      "source": [
        "blip_processor.tokenizer"
      ]
    },
    {
      "cell_type": "markdown",
      "metadata": {
        "id": "J8fxaf0EGrwc"
      },
      "source": [
        "To explore how GPT2Tokenizer works, we can try it out with a small\n",
        "sentence. We start by converting the sentence to token IDs before converting\n",
        "them back to tokens:"
      ]
    },
    {
      "cell_type": "code",
      "execution_count": null,
      "metadata": {
        "id": "21Zh5Rx8QLAy"
      },
      "outputs": [],
      "source": [
        "# Preprocess the text\n",
        "text = \"Her vocalization was remarkably melodic\"\n",
        "tokens = blip_processor.tokenizer(text, return_tensors=\"pt\")\n",
        "input_ids = tokens['input_ids'][0]\n",
        "\n",
        "tokens = blip_processor.tokenizer.convert_ids_to_tokens(input_ids)\n",
        "tokens"
      ]
    },
    {
      "cell_type": "markdown",
      "metadata": {
        "id": "ojc0bQ_7HRL0"
      },
      "source": [
        "When we inspect the tokens, you might notice a strange symbol at the\n",
        "beginning of some tokens, namely, the Ġ symbol. This is actually supposed\n",
        "to be a space. However, an internal function takes characters in certain code\n",
        "points and moves them up by 256 to make them printable. As a result, the\n",
        "space (code point 32) becomes Ġ (code point 288)."
      ]
    },
    {
      "cell_type": "code",
      "execution_count": null,
      "metadata": {
        "id": "TFnL_Yt3elPX"
      },
      "outputs": [],
      "source": [
        "# Replace the space token with an underscore\n",
        "tokens = [token.replace(\"Ġ\", \"_\") for token in tokens]\n",
        "tokens"
      ]
    },
    {
      "cell_type": "markdown",
      "metadata": {
        "id": "fDx5elnHeHnT"
      },
      "source": [
        "### Use Case 1: Image Captioning\n",
        "\n",
        "The most straightforward usage of a model like BLIP-2 is to create captions of images that you have in your data. An image is converted to pixel values that the model can read. These pixel values are passed to BLIP-2 to be converted into soft visual prompts that the LLM can use to decide on a proper caption."
      ]
    },
    {
      "cell_type": "code",
      "execution_count": null,
      "metadata": {
        "id": "gFJ9-l8c8u3i"
      },
      "outputs": [],
      "source": [
        "# Load an test image\n",
        "image = Image.open(urlopen(image_url)).convert(\"RGB\")\n",
        "\n",
        "# Convert an image into inputs and preprocess it\n",
        "inputs = blip_processor(image, return_tensors=\"pt\").to(device, torch.float16)\n",
        "image"
      ]
    },
    {
      "cell_type": "code",
      "execution_count": null,
      "metadata": {
        "id": "YHIoTZa6eEaR"
      },
      "outputs": [],
      "source": [
        "# Generate image ids to be passed to the decoder (LLM)\n",
        "generated_ids = model.generate(**inputs, max_new_tokens=20)\n",
        "\n",
        "# Generate text from the image ids\n",
        "generated_text = blip_processor.batch_decode(generated_ids, skip_special_tokens=True)\n",
        "generated_text = generated_text[0].strip()\n",
        "generated_text"
      ]
    },
    {
      "cell_type": "markdown",
      "metadata": {
        "id": "XjHfQxWGkVYF"
      },
      "source": [
        "### Use Case 2: Visual Question Answering\n",
        "\n",
        "In the previous example, we showed going from one modality, vision (image), to another, text (caption). Instead of following this linear structure, we can try to present both modalities simultaneously by performing what is called visual question answering. In this particular use case, we give the model an image along with a question about that specific image for it to answer. The model needs to process both the image as well as the question at once.\n",
        "To demonstrate, let’s start with the picture and ask BLIP-2 to describe the image. To do so, we first need to preprocess the image as we did a few times before:"
      ]
    },
    {
      "cell_type": "code",
      "execution_count": null,
      "metadata": {
        "id": "269NtauNFIze"
      },
      "outputs": [],
      "source": [
        "# Load a test image\n",
        "image = Image.open(urlopen(image_url)).convert(\"RGB\")"
      ]
    },
    {
      "cell_type": "markdown",
      "metadata": {
        "id": "j154ux6o3cCp"
      },
      "source": [
        "To perform our visual question answering we need to give BLIP-2 more than just the image, namely the prompt. Without it, the model would generate a caption as it did before. We will ask the model to describe the image we just processed:"
      ]
    },
    {
      "cell_type": "code",
      "execution_count": null,
      "metadata": {
        "id": "_NsMF_hMCIIj"
      },
      "outputs": [],
      "source": [
        "# Visual Question Answering\n",
        "prompt = \"Question: Write down what you see in this picture. Answer:\"\n",
        "\n",
        "# Process both the image and the prompt\n",
        "inputs = blip_processor(image, text=prompt, return_tensors=\"pt\").to(device, torch.float16)\n",
        "\n",
        "# Generate text\n",
        "generated_ids = model.generate(**inputs, max_new_tokens=30)\n",
        "generated_text = blip_processor.batch_decode(generated_ids, skip_special_tokens=True)\n",
        "generated_text = generated_text[0].strip()\n",
        "generated_text"
      ]
    },
    {
      "cell_type": "markdown",
      "metadata": {
        "id": "NlTNHuO53cCp"
      },
      "source": [
        "It correctly describes the image. However, this is a rather simple example since our question is essentially asking the model to create a caption. Instead, we can ask follow-up questions in a chat-based manner. To do so, we can give the model our previous conversation, including its answer to our question. We then ask it a follow-up question:"
      ]
    },
    {
      "cell_type": "code",
      "execution_count": null,
      "metadata": {
        "id": "NtpMIgUaScBD"
      },
      "outputs": [],
      "source": [
        "# Chat-like prompting\n",
        "prompt = \"Question: Write down what you see in this picture. Answer: Merlion. Question: Where is the merlion sitting? Answer:\"\n",
        "\n",
        "# Generate output\n",
        "inputs = blip_processor(image, text=prompt, return_tensors=\"pt\").to(device, torch.float16)\n",
        "generated_ids = model.generate(**inputs, max_new_tokens=30)\n",
        "generated_text = blip_processor.batch_decode(generated_ids, skip_special_tokens=True)\n",
        "generated_text = generated_text[0].strip()\n",
        "generated_text"
      ]
    }
  ],
  "metadata": {
    "accelerator": "GPU",
    "colab": {
      "gpuType": "T4",
      "provenance": [],
      "include_colab_link": true
    },
    "kernelspec": {
      "display_name": "Python 3 (ipykernel)",
      "language": "python",
      "name": "python3"
    },
    "language_info": {
      "codemirror_mode": {
        "name": "ipython",
        "version": 3
      },
      "file_extension": ".py",
      "mimetype": "text/x-python",
      "name": "python",
      "nbconvert_exporter": "python",
      "pygments_lexer": "ipython3",
      "version": "3.11.10"
    }
  },
  "nbformat": 4,
  "nbformat_minor": 0
}